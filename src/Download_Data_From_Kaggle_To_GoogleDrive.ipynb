{
  "nbformat": 4,
  "nbformat_minor": 0,
  "metadata": {
    "colab": {
      "name": "Download_Data_From_Kaggle_To_GoogleDrive.ipynb",
      "provenance": [],
      "collapsed_sections": [],
      "toc_visible": true
    },
    "kernelspec": {
      "name": "python3",
      "display_name": "Python 3"
    }
  },
  "cells": [
    {
      "cell_type": "markdown",
      "metadata": {
        "id": "mCqsMkZSCmeL",
        "colab_type": "text"
      },
      "source": [
        "# Kaggle to Google Drive"
      ]
    },
    {
      "cell_type": "code",
      "metadata": {
        "id": "gdzB_b7sqXPf",
        "colab_type": "code",
        "colab": {}
      },
      "source": [
        "from google.colab import drive\n",
        "drive.mount('/content/gdrive')"
      ],
      "execution_count": 0,
      "outputs": []
    },
    {
      "cell_type": "code",
      "metadata": {
        "id": "eC6h7mNlq9br",
        "colab_type": "code",
        "colab": {}
      },
      "source": [
        "\n",
        "from google.colab import drive\n",
        "\n",
        "drive.mount('/content/gdrive')\n",
        "root_path = 'gdrive/My Drive/DataSet/'  #change dir to your project folder "
      ],
      "execution_count": 0,
      "outputs": []
    },
    {
      "cell_type": "code",
      "metadata": {
        "id": "55y408Z9otGk",
        "colab_type": "code",
        "colab": {}
      },
      "source": [
        "!pip install -U -q kaggle\n",
        "!pip install -q kaggle-cli"
      ],
      "execution_count": 0,
      "outputs": []
    },
    {
      "cell_type": "code",
      "metadata": {
        "id": "kAIR9IIMpU8g",
        "colab_type": "code",
        "colab": {}
      },
      "source": [
        "!mkdir -p ~/.kaggle\n",
        "\n",
        "from google.colab import files\n",
        "files.upload() # Upload the Kaggle.json API file which you Downloaded from your credentials of Kaggle account."
      ],
      "execution_count": 0,
      "outputs": []
    },
    {
      "cell_type": "code",
      "metadata": {
        "id": "o0QaOWGPpU3T",
        "colab_type": "code",
        "colab": {}
      },
      "source": [
        "!cp kaggle.json ~/.kaggle/"
      ],
      "execution_count": 0,
      "outputs": []
    },
    {
      "cell_type": "code",
      "metadata": {
        "id": "79dB21UypUxS",
        "colab_type": "code",
        "colab": {}
      },
      "source": [
        "!chmod 600 /root/.kaggle/kaggle.json"
      ],
      "execution_count": 0,
      "outputs": []
    },
    {
      "cell_type": "code",
      "metadata": {
        "id": "lFabqm2RpUsh",
        "colab_type": "code",
        "colab": {}
      },
      "source": [
        "!ls ~/.kaggle"
      ],
      "execution_count": 0,
      "outputs": []
    },
    {
      "cell_type": "code",
      "metadata": {
        "id": "O4CmV_5YpUNv",
        "colab_type": "code",
        "colab": {}
      },
      "source": [
        "# get the API of the Dataset from the Kaggle and paste it here\n",
        "!\n",
        "# Example\n",
        "!kaggle datasets download -d paultimothymooney/chest-xray-pneumonia"
      ],
      "execution_count": 0,
      "outputs": []
    },
    {
      "cell_type": "markdown",
      "metadata": {
        "id": "G9lHeIlBCvcD",
        "colab_type": "text"
      },
      "source": [
        "# Google Drive to Collab"
      ]
    },
    {
      "cell_type": "code",
      "metadata": {
        "id": "oiskmlS3DbbK",
        "colab_type": "code",
        "colab": {}
      },
      "source": [
        "# After runinng the above cells Browse the Directory Named as gdrive in your collab notebook\n",
        "# Here gdrive represents your google Drive\n",
        "# Now set the Path where you actually Downloaded the the zip file"
      ],
      "execution_count": 0,
      "outputs": []
    },
    {
      "cell_type": "code",
      "metadata": {
        "id": "FPi5fVfQELG2",
        "colab_type": "code",
        "colab": {}
      },
      "source": [
        "!unzip path_to_file.zip"
      ],
      "execution_count": 0,
      "outputs": []
    },
    {
      "cell_type": "markdown",
      "metadata": {
        "id": "Ny1AoDuFDW4G",
        "colab_type": "text"
      },
      "source": [
        "## Or"
      ]
    },
    {
      "cell_type": "code",
      "metadata": {
        "id": "_qrM88v_svPt",
        "colab_type": "code",
        "colab": {}
      },
      "source": [
        "\n",
        "# Import PyDrive and associated libraries.\n",
        "# This only needs to be done once per notebook.\n",
        "from pydrive.auth import GoogleAuth\n",
        "from pydrive.drive import GoogleDrive\n",
        "from google.colab import auth\n",
        "from oauth2client.client import GoogleCredentials\n",
        "\n",
        "# Authenticate and create the PyDrive client.\n",
        "# This only needs to be done once per notebook.\n",
        "auth.authenticate_user()\n",
        "gauth = GoogleAuth()\n",
        "gauth.credentials = GoogleCredentials.get_application_default()\n",
        "drive = GoogleDrive(gauth)\n",
        "\n",
        "\n",
        "#2. Get the file id:\n",
        "# Id of the file in Drive\n",
        "downloaded = drive.CreateFile({'id':'---------------------'})    #fi379724917947HGJGUJS&dTYY8hgj\n",
        "downloaded.GetContentFile('Name of the zip file')  # example.zip"
      ],
      "execution_count": 0,
      "outputs": []
    },
    {
      "cell_type": "code",
      "metadata": {
        "id": "KnkFG0ByEW6E",
        "colab_type": "code",
        "colab": {}
      },
      "source": [
        "!unzip path_to_file.zip"
      ],
      "execution_count": 0,
      "outputs": []
    }
  ]
}